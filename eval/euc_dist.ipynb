{
 "cells": [
  {
   "cell_type": "code",
   "execution_count": 100,
   "metadata": {},
   "outputs": [],
   "source": [
    "#!/usr/bin/env python\n",
    "import pandas as pd\n",
    "import numpy as np\n",
    "import glob\n",
    "import matplotlib.pyplot as plt\n",
    "import matplotlib.patches as mpatches\n",
    "from matplotlib.patches import Rectangle"
   ]
  },
  {
   "cell_type": "code",
   "execution_count": 2,
   "metadata": {},
   "outputs": [],
   "source": [
    "positions = [\"PosX\", \"PosY\", \"PosZ\"]\n",
    "rotations = [\"RotX\", \"RotY\", \"RotZ\"]\n",
    "tmp = positions + rotations\n",
    "\n",
    "\n",
    "path = r'../from_study/CSV' # use your path\n",
    "all_files = glob.glob(path + \"/*.csv\")\n",
    "\n",
    "li = []\n",
    "\n",
    "for filename in all_files:\n",
    "    df = pd.read_csv(filename, delimiter=\";\")\n",
    "    li.append(df)\n",
    "\n",
    "\n",
    "def calc_euc(df):\n",
    "    for pos in positions:\n",
    "        df[pos + \"_diff\"] = df[pos] - df[pos].shift(1)\n",
    "        df[pos + \"_square\"] = df[pos + \"_diff\"] * df[pos + \"_diff\"]\n",
    "\n",
    "    df[\"euc\"] = (df[\"PosX_square\"] + df[\"PosY_square\"] + df[\"PosZ_square\"]).apply(lambda x: np.sqrt(x))\n",
    "    return df[\"euc\"].sum()"
   ]
  },
  {
   "cell_type": "code",
   "execution_count": 3,
   "metadata": {},
   "outputs": [
    {
     "name": "stderr",
     "output_type": "stream",
     "text": [
      "c:\\program files\\python\\lib\\site-packages\\ipykernel_launcher.py:18: SettingWithCopyWarning: \n",
      "A value is trying to be set on a copy of a slice from a DataFrame.\n",
      "Try using .loc[row_indexer,col_indexer] = value instead\n",
      "\n",
      "See the caveats in the documentation: http://pandas.pydata.org/pandas-docs/stable/indexing.html#indexing-view-versus-copy\n",
      "c:\\program files\\python\\lib\\site-packages\\ipykernel_launcher.py:19: SettingWithCopyWarning: \n",
      "A value is trying to be set on a copy of a slice from a DataFrame.\n",
      "Try using .loc[row_indexer,col_indexer] = value instead\n",
      "\n",
      "See the caveats in the documentation: http://pandas.pydata.org/pandas-docs/stable/indexing.html#indexing-view-versus-copy\n",
      "c:\\program files\\python\\lib\\site-packages\\ipykernel_launcher.py:21: SettingWithCopyWarning: \n",
      "A value is trying to be set on a copy of a slice from a DataFrame.\n",
      "Try using .loc[row_indexer,col_indexer] = value instead\n",
      "\n",
      "See the caveats in the documentation: http://pandas.pydata.org/pandas-docs/stable/indexing.html#indexing-view-versus-copy\n"
     ]
    }
   ],
   "source": [
    "df_result = pd.DataFrame(columns=['PID','condition','movement'])\n",
    "for j in range(len(li)):\n",
    "    df = li[j]\n",
    "    df = df[(df.isStudy == True)]\n",
    "    # filter unusual data\n",
    "    df = df[(df.PosX < 10) & (df.PosX > -10)]\n",
    "    df = df[(df.PosY < 10) & (df.PosY > -10)]\n",
    "    df = df[(df.PosZ < 10) & (df.PosZ > -10)]\n",
    "    for i in range(1, 4):\n",
    "        right = df[(df.Hand == \"Right\") & (df.Condition == i)]\n",
    "        left = df[(df.Hand == \"Left\") & (df.Condition == i)]\n",
    "        tmp = calc_euc(right) + calc_euc(left)\n",
    "        pid = df.SubjectID.unique()[0]\n",
    "        df_result = df_result.append({'PID': pid, 'condition': i, 'movement': tmp}, ignore_index=True)\n",
    "        # print(\"PID\", pid, \"-\", \"condition\", str(i), \":\\t\", tmp)"
   ]
  },
  {
   "cell_type": "code",
   "execution_count": 4,
   "metadata": {},
   "outputs": [],
   "source": [
    "df_result[\"PID\"] = pd.to_numeric(df_result[\"PID\"]).astype(int)\n",
    "df_result[\"condition\"] = pd.to_numeric(df_result[\"condition\"]).astype(int)"
   ]
  },
  {
   "cell_type": "code",
   "execution_count": 5,
   "metadata": {},
   "outputs": [
    {
     "data": {
      "text/html": [
       "<div>\n",
       "<style scoped>\n",
       "    .dataframe tbody tr th:only-of-type {\n",
       "        vertical-align: middle;\n",
       "    }\n",
       "\n",
       "    .dataframe tbody tr th {\n",
       "        vertical-align: top;\n",
       "    }\n",
       "\n",
       "    .dataframe thead th {\n",
       "        text-align: right;\n",
       "    }\n",
       "</style>\n",
       "<table border=\"1\" class=\"dataframe\">\n",
       "  <thead>\n",
       "    <tr style=\"text-align: right;\">\n",
       "      <th></th>\n",
       "      <th>count</th>\n",
       "      <th>mean</th>\n",
       "      <th>std</th>\n",
       "      <th>min</th>\n",
       "      <th>25%</th>\n",
       "      <th>50%</th>\n",
       "      <th>75%</th>\n",
       "      <th>max</th>\n",
       "    </tr>\n",
       "    <tr>\n",
       "      <th>condition</th>\n",
       "      <th></th>\n",
       "      <th></th>\n",
       "      <th></th>\n",
       "      <th></th>\n",
       "      <th></th>\n",
       "      <th></th>\n",
       "      <th></th>\n",
       "      <th></th>\n",
       "    </tr>\n",
       "  </thead>\n",
       "  <tbody>\n",
       "    <tr>\n",
       "      <th>1</th>\n",
       "      <td>12.0</td>\n",
       "      <td>71.271603</td>\n",
       "      <td>33.819030</td>\n",
       "      <td>13.868938</td>\n",
       "      <td>54.588462</td>\n",
       "      <td>65.702882</td>\n",
       "      <td>86.344528</td>\n",
       "      <td>140.308256</td>\n",
       "    </tr>\n",
       "    <tr>\n",
       "      <th>2</th>\n",
       "      <td>12.0</td>\n",
       "      <td>64.517381</td>\n",
       "      <td>34.622370</td>\n",
       "      <td>21.475518</td>\n",
       "      <td>43.877621</td>\n",
       "      <td>53.898466</td>\n",
       "      <td>81.488739</td>\n",
       "      <td>140.276817</td>\n",
       "    </tr>\n",
       "    <tr>\n",
       "      <th>3</th>\n",
       "      <td>12.0</td>\n",
       "      <td>67.556325</td>\n",
       "      <td>26.522171</td>\n",
       "      <td>27.787852</td>\n",
       "      <td>49.864273</td>\n",
       "      <td>63.915033</td>\n",
       "      <td>73.766878</td>\n",
       "      <td>120.113180</td>\n",
       "    </tr>\n",
       "  </tbody>\n",
       "</table>\n",
       "</div>"
      ],
      "text/plain": [
       "           count       mean        std        min        25%        50%  \\\n",
       "condition                                                                 \n",
       "1           12.0  71.271603  33.819030  13.868938  54.588462  65.702882   \n",
       "2           12.0  64.517381  34.622370  21.475518  43.877621  53.898466   \n",
       "3           12.0  67.556325  26.522171  27.787852  49.864273  63.915033   \n",
       "\n",
       "                 75%         max  \n",
       "condition                         \n",
       "1          86.344528  140.308256  \n",
       "2          81.488739  140.276817  \n",
       "3          73.766878  120.113180  "
      ]
     },
     "execution_count": 5,
     "metadata": {},
     "output_type": "execute_result"
    }
   ],
   "source": [
    "df_result.groupby([\"condition\"]).movement.describe()"
   ]
  },
  {
   "cell_type": "markdown",
   "metadata": {},
   "source": [
    "presence ist gleich wie bei condtions\n",
    "\n",
    "eigene presence ist daher nicht beeinflusst"
   ]
  },
  {
   "cell_type": "markdown",
   "metadata": {},
   "source": [
    "# plot results"
   ]
  },
  {
   "cell_type": "code",
   "execution_count": 21,
   "metadata": {},
   "outputs": [
    {
     "data": {
      "text/html": [
       "<div>\n",
       "<style scoped>\n",
       "    .dataframe tbody tr th:only-of-type {\n",
       "        vertical-align: middle;\n",
       "    }\n",
       "\n",
       "    .dataframe tbody tr th {\n",
       "        vertical-align: top;\n",
       "    }\n",
       "\n",
       "    .dataframe thead th {\n",
       "        text-align: right;\n",
       "    }\n",
       "</style>\n",
       "<table border=\"1\" class=\"dataframe\">\n",
       "  <thead>\n",
       "    <tr style=\"text-align: right;\">\n",
       "      <th></th>\n",
       "      <th>PID</th>\n",
       "      <th>condition</th>\n",
       "      <th>movement</th>\n",
       "    </tr>\n",
       "  </thead>\n",
       "  <tbody>\n",
       "    <tr>\n",
       "      <th>0</th>\n",
       "      <td>11</td>\n",
       "      <td>1</td>\n",
       "      <td>140.308256</td>\n",
       "    </tr>\n",
       "    <tr>\n",
       "      <th>1</th>\n",
       "      <td>11</td>\n",
       "      <td>2</td>\n",
       "      <td>89.396840</td>\n",
       "    </tr>\n",
       "    <tr>\n",
       "      <th>2</th>\n",
       "      <td>11</td>\n",
       "      <td>3</td>\n",
       "      <td>82.079909</td>\n",
       "    </tr>\n",
       "    <tr>\n",
       "      <th>3</th>\n",
       "      <td>12</td>\n",
       "      <td>1</td>\n",
       "      <td>108.949698</td>\n",
       "    </tr>\n",
       "    <tr>\n",
       "      <th>4</th>\n",
       "      <td>12</td>\n",
       "      <td>2</td>\n",
       "      <td>140.276817</td>\n",
       "    </tr>\n",
       "  </tbody>\n",
       "</table>\n",
       "</div>"
      ],
      "text/plain": [
       "   PID  condition    movement\n",
       "0   11          1  140.308256\n",
       "1   11          2   89.396840\n",
       "2   11          3   82.079909\n",
       "3   12          1  108.949698\n",
       "4   12          2  140.276817"
      ]
     },
     "execution_count": 21,
     "metadata": {},
     "output_type": "execute_result"
    }
   ],
   "source": [
    "df_result.head()"
   ]
  },
  {
   "cell_type": "code",
   "execution_count": 58,
   "metadata": {},
   "outputs": [],
   "source": [
    "df_result.to_csv(\"distance.csv\")"
   ]
  },
  {
   "cell_type": "code",
   "execution_count": null,
   "metadata": {},
   "outputs": [],
   "source": []
  },
  {
   "cell_type": "code",
   "execution_count": 102,
   "metadata": {},
   "outputs": [
    {
     "data": {
      "image/png": "[encoded data removed]",
      "text/plain": [
       "<Figure size 1080x360 with 1 Axes>"
      ]
     },
     "metadata": {
      "needs_background": "light"
     },
     "output_type": "display_data"
    }
   ],
   "source": [
    "fig, ax = plt.subplots(1,figsize = (15,5))\n",
    "\n",
    "plt.rcParams.update({'font.size': 16})\n",
    "\n",
    "\n",
    "colors = ['#abdda4','#fdae61','#2b83ba','#d7191c']\n",
    "\n",
    "data = []\n",
    "\n",
    "for c in df_result.condition.unique():\n",
    "    x = df_result[df_result.condition == c][\"movement\"].values\n",
    "    data.append(x)\n",
    "    \n",
    "bp = ax.boxplot(data, positions = [1,2, 3], patch_artist=True)\n",
    "\n",
    "i = 1\n",
    "for box in bp['boxes']:\n",
    "    if i % 3 == 1:\n",
    "        # change fill color\n",
    "        box.set( facecolor = colors[0] )\n",
    "    elif i%3 == 2:\n",
    "        box.set( facecolor = colors[1] )\n",
    "    else:\n",
    "        # change fill color\n",
    "        box.set( facecolor = colors[2] )\n",
    "    i += 1\n",
    "\n",
    "for median in bp['medians']:\n",
    "    median.set(color=colors[3], linewidth=2)\n",
    "    \n",
    "    \n",
    "for i in range(1,8):\n",
    "    ax.axhline(y=i * 20, xmin=0, xmax=140, linestyle = \"--\", alpha = 0.5,linewidth = 1)\n",
    "\n",
    "    \n",
    "question_labels = ['Real Movement', 'Fake Movement', 'No Movement']\n",
    "\n",
    "patches = []\n",
    "for i in range(len(question_labels)):\n",
    "    patch = mpatches.Patch(color=colors[i], label=question_labels[i])\n",
    "    patches.append(patch)\n",
    "\n",
    "plt.legend(handles = patches,ncol = 3, bbox_to_anchor=(0.15, 1))\n",
    "xtick_labels = [\"real movement\",\"no movement\",\"fake movement\"]\n",
    "plt.xticks(np.arange(1, 4), xtick_labels)\n",
    "\n",
    "\n",
    "ax.set_ylabel(\"distance [m]\")\n",
    "plt.savefig(\"euclideandistance.pdf\", bbox_inches=\"tight\")\n",
    "plt.savefig(\"euclideandistance.svg\", bbox_inches=\"tight\")\n",
    "plt.show()"
   ]
  },
  {
   "cell_type": "code",
   "execution_count": null,
   "metadata": {},
   "outputs": [],
   "source": []
  },
  {
   "cell_type": "code",
   "execution_count": null,
   "metadata": {},
   "outputs": [],
   "source": []
  },
  {
   "cell_type": "code",
   "execution_count": null,
   "metadata": {},
   "outputs": [],
   "source": []
  },
  {
   "cell_type": "code",
   "execution_count": null,
   "metadata": {},
   "outputs": [],
   "source": []
  },
  {
   "cell_type": "code",
   "execution_count": null,
   "metadata": {},
   "outputs": [],
   "source": []
  }
 ],
 "metadata": {
  "kernelspec": {
   "display_name": "Python 3",
   "language": "python",
   "name": "python3"
  },
  "language_info": {
   "codemirror_mode": {
    "name": "ipython",
    "version": 3
   },
   "file_extension": ".py",
   "mimetype": "text/x-python",
   "name": "python",
   "nbconvert_exporter": "python",
   "pygments_lexer": "ipython3",
   "version": "3.7.3"
  }
 },
 "nbformat": 4,
 "nbformat_minor": 2
}
