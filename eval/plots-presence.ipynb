{
 "cells": [
  {
   "cell_type": "code",
   "execution_count": 1,
   "metadata": {},
   "outputs": [],
   "source": [
    "import numpy as np\n",
    "import pandas as pd\n",
    "import ast\n",
    "import matplotlib.patches as mpatches\n",
    "import matplotlib.pyplot as plt\n",
    "from matplotlib.patches import Rectangle\n",
    "from scipy import stats\n",
    "import scipy"
   ]
  },
  {
   "cell_type": "code",
   "execution_count": 2,
   "metadata": {},
   "outputs": [],
   "source": [
    "df = pd.read_csv(\"VR_Participants - Presence.csv\", delimiter=\",\")"
   ]
  },
  {
   "cell_type": "code",
   "execution_count": 3,
   "metadata": {},
   "outputs": [],
   "source": [
    "df = df.dropna()\n",
    "\n",
    "questions = [\"aware of environment\",\"attention real environment\",\"present in vr\",\"hands located in vr\"]\n",
    "\n",
    "for c in questions:\n",
    "    df[c] = df[c].astype(int)\n",
    "    df[c] = df[c].apply(lambda x: x + 4)"
   ]
  },
  {
   "cell_type": "code",
   "execution_count": 4,
   "metadata": {},
   "outputs": [],
   "source": [
    "df[\"condition\"] = df[\"condition\"].apply(lambda x: x.replace(\" \", \"\"))\n",
    "labels = df[\"condition\"].unique()"
   ]
  },
  {
   "cell_type": "code",
   "execution_count": 5,
   "metadata": {},
   "outputs": [],
   "source": [
    "pos = []\n",
    "for i in range(4*4):\n",
    "    if i%4 == 0:\n",
    "        continue\n",
    "    pos.append(i)"
   ]
  },
  {
   "cell_type": "code",
   "execution_count": 7,
   "metadata": {},
   "outputs": [
    {
     "data": {
      "image/png": "[encoded data removed]",
      "text/plain": [
       "<Figure size 1080x360 with 1 Axes>"
      ]
     },
     "metadata": {
      "needs_background": "light"
     },
     "output_type": "display_data"
    }
   ],
   "source": [
    "fig, ax = plt.subplots(1,figsize = (15,5))\n",
    "\n",
    "plt.rcParams.update({'font.size': 16})\n",
    "\n",
    "xtick_labels = [\"Q1\",\"Q2\",\"Q3\",\"Q4\"]\n",
    "xticks = np.arange(2, 16, 4)\n",
    "\n",
    "question_labels = ['Real Movement', 'Fake Movement', 'No Movement']\n",
    "colors = ['#abdda4','#fdae61','#2b83ba','#d7191c']\n",
    "\n",
    "patches = []\n",
    "for i in range(len(question_labels)):\n",
    "    patch = mpatches.Patch(color=colors[i], label=question_labels[i])\n",
    "    patches.append(patch)\n",
    "\n",
    "data = []\n",
    "for i,q in enumerate(questions):\n",
    "    x = df[df.condition == \"real\"][q].values\n",
    "    y = df[df.condition == \"fake\"][q].values\n",
    "    z = df[df.condition == \"none\"][q].values\n",
    "    data.append(x)\n",
    "    data.append(y)\n",
    "    data.append(z)\n",
    "bp = ax.boxplot(data, positions = pos, patch_artist=True)\n",
    "ax.set_ylim(0.5,7.5)\n",
    "ax.tick_params(axis='x', pad=10)\n",
    "ax.set_yticks([1,2,3,4,5,6,7])\n",
    "ax.set_ylabel(\"Likert Score\")\n",
    "plt.xticks(xticks, xtick_labels)\n",
    "plt.legend(handles = patches,ncol = 3, bbox_to_anchor=(0.15, 1))\n",
    "\n",
    "i = 1\n",
    "for box in bp['boxes']:\n",
    "    if i % 3 == 1:\n",
    "        # change fill color\n",
    "        box.set( facecolor = colors[0] )\n",
    "    elif i%3 == 2:\n",
    "        box.set( facecolor = colors[1] )\n",
    "    else:\n",
    "        # change fill color\n",
    "        box.set( facecolor = colors[2] )\n",
    "    i += 1\n",
    "\n",
    "for median in bp['medians']:\n",
    "    median.set(color=colors[3], linewidth=2)\n",
    "    #ax.set_xticklabels([\"Low_level\", \"High_level\"])\n",
    "    \n",
    "for i in range(1,8):\n",
    "    ax.axhline(y=i, xmin=0, xmax=21, linestyle = \"--\", alpha = 0.5,linewidth = 1)\n",
    "\n",
    "plt.savefig(\"presence.pdf\", bbox_inches=\"tight\")\n",
    "plt.show()"
   ]
  },
  {
   "cell_type": "code",
   "execution_count": 7,
   "metadata": {},
   "outputs": [
    {
     "data": {
      "text/plain": [
       "count    36.000000\n",
       "mean      2.750000\n",
       "std       1.441725\n",
       "min       1.000000\n",
       "25%       2.000000\n",
       "50%       2.000000\n",
       "75%       4.000000\n",
       "max       5.000000\n",
       "Name: attention real environment, dtype: float64"
      ]
     },
     "execution_count": 7,
     "metadata": {},
     "output_type": "execute_result"
    }
   ],
   "source": [
    "df[\"attention real environment\"].describe()"
   ]
  },
  {
   "cell_type": "code",
   "execution_count": null,
   "metadata": {},
   "outputs": [],
   "source": []
  }
 ],
 "metadata": {
  "kernelspec": {
   "display_name": "Python 3",
   "language": "python",
   "name": "python3"
  },
  "language_info": {
   "codemirror_mode": {
    "name": "ipython",
    "version": 3
   },
   "file_extension": ".py",
   "mimetype": "text/x-python",
   "name": "python",
   "nbconvert_exporter": "python",
   "pygments_lexer": "ipython3",
   "version": "3.7.3"
  }
 },
 "nbformat": 4,
 "nbformat_minor": 2
}
